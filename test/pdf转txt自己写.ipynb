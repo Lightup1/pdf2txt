{
 "cells": [
  {
   "cell_type": "code",
   "execution_count": 1,
   "metadata": {},
   "outputs": [],
   "source": [
    "import os\n",
    "import PyPDF2\n",
    "import multiprocessing.dummy as mp\n",
    "path = r\"D:\\提取txt\"\n",
    "os.chdir(path)#os.chdir() 方法用于改变当前工作目录到指定的路径"
   ]
  },
  {
   "cell_type": "markdown",
   "metadata": {},
   "source": [
    "先提取需要转换的PDF名称"
   ]
  },
  {
   "cell_type": "code",
   "execution_count": 2,
   "metadata": {},
   "outputs": [
    {
     "name": "stdout",
     "output_type": "stream",
     "text": [
      "['002592', '600781', '图片类型的PDF']\n"
     ]
    }
   ],
   "source": [
    "import os\n",
    "path = r\"D:\\提取txt - 副本\"\n",
    "dirlist = os.listdir(path)\n",
    "print(dirlist)"
   ]
  },
  {
   "cell_type": "markdown",
   "metadata": {},
   "source": [
    "创建文件夹"
   ]
  },
  {
   "cell_type": "code",
   "execution_count": 3,
   "metadata": {},
   "outputs": [],
   "source": [
    "for i in dirlist:\n",
    "    file_path = \"D:/完成txt/\" + i\n",
    "    os.mkdir(file_path)  "
   ]
  },
  {
   "cell_type": "markdown",
   "metadata": {},
   "source": [
    "如何去除后缀"
   ]
  },
  {
   "cell_type": "code",
   "execution_count": 3,
   "metadata": {},
   "outputs": [
    {
     "name": "stdout",
     "output_type": "stream",
     "text": [
      "2015年年度报告\n",
      "2016年年度报告\n",
      "2017年年度报告\n",
      "2018年年度报告\n",
      "2019年年度报告（更新后）\n",
      "ST八菱：2020年年度报告（更新后）\n",
      "ST辅仁：2019年年度报告\n",
      "辅仁药业：2015年年度报告\n",
      "辅仁药业：2015年年度报告\n",
      "辅仁药业：2016年年度报告\n",
      "辅仁药业：2016年年度报告\n",
      "辅仁药业：2017年年度报告\n",
      "辅仁药业：2017年年度报告\n",
      "辅仁药业：2018年年度报告\n",
      "扫描全能王\n"
     ]
    }
   ],
   "source": [
    "for p in dirlist:\n",
    "    path2 = \"D:/提取txt - 副本/\"+p\n",
    "    dirlist2 = os.listdir(path2)\n",
    "    for j in dirlist2:\n",
    "        k = j.split('.')[0]\n",
    "        print(k)"
   ]
  },
  {
   "cell_type": "markdown",
   "metadata": {},
   "source": [
    "将pdf转换成txt（批量）"
   ]
  },
  {
   "cell_type": "code",
   "execution_count": 4,
   "metadata": {},
   "outputs": [],
   "source": [
    "def dir_pdf2txt(dir_name):\n",
    "    path = \"D:/提取txt - 副本/\"+dir_name\n",
    "    dirlist = os.listdir(path)\n",
    "    file_path = \"D:/完成txt/\" + dir_name\n",
    "    os.mkdir(file_path)  \n",
    "    for j in dirlist:\n",
    "        k = j.split('.')[0]\n",
    "        pdf_filename = \"D:/提取txt - 副本/\"+dir_name+\"/\"+k + '.pdf'\n",
    "        txt_filename = \"D:/完成txt/\"+dir_name+\"/\"+k + '.txt'\n",
    "        # print(pdf_filename)\n",
    "        with open(pdf_filename, 'rb') as pdfFileObj:\n",
    "        # pdfFileObj = open(pdf_filename, 'rb') \n",
    "            pdfReader = PyPDF2.PdfReader(pdfFileObj)\n",
    "            x=pdfReader.numPages\n",
    "            # print(x)\n",
    "            with open(txt_filename,\"a\",encoding='utf-8') as file1:\n",
    "                for i in range(x):\n",
    "                    pageobj=pdfReader.pages[i]\n",
    "                    text=pageobj.extract_text()\n",
    "                    file1.writelines(text)"
   ]
  },
  {
   "cell_type": "code",
   "execution_count": 5,
   "metadata": {},
   "outputs": [
    {
     "name": "stderr",
     "output_type": "stream",
     "text": [
      "c:\\Users\\pc\\AppData\\Local\\Programs\\Python\\Python310\\lib\\site-packages\\PyPDF2\\_cmap.py:122: PdfReadWarning: Advanced encoding /GBK-EUC-H not implemented yet\n",
      "  warnings.warn(\n"
     ]
    }
   ],
   "source": [
    "if __name__==\"__main__\":\n",
    "    with mp.Pool() as par:\n",
    "        par.map(dir_pdf2txt,dirlist) "
   ]
  },
  {
   "cell_type": "code",
   "execution_count": 4,
   "metadata": {},
   "outputs": [
    {
     "name": "stderr",
     "output_type": "stream",
     "text": [
      "c:\\Users\\pc\\AppData\\Local\\Programs\\Python\\Python310\\lib\\site-packages\\PyPDF2\\_cmap.py:122: PdfReadWarning: Advanced encoding /GBK-EUC-H not implemented yet\n",
      "  warnings.warn(\n"
     ]
    }
   ],
   "source": [
    "for p in dirlist:\n",
    "    path2 = \"D:/提取txt - 副本/\"+p\n",
    "    dirlist2 = os.listdir(path2)\n",
    "    file_path = \"D:/完成txt/\" + p\n",
    "    os.mkdir(file_path)  \n",
    "    for j in dirlist2:\n",
    "        k = j.split('.')[0]\n",
    "        pdf_filename = \"D:/提取txt - 副本/\"+p+\"/\"+k + '.pdf'\n",
    "        txt_filename = \"D:/完成txt/\"+p+\"/\"+k + '.txt'\n",
    "        # print(pdf_filename)\n",
    "        with open(pdf_filename, 'rb') as pdfFileObj:\n",
    "        # pdfFileObj = open(pdf_filename, 'rb') \n",
    "            pdfReader = PyPDF2.PdfReader(pdfFileObj)\n",
    "            x=pdfReader.numPages\n",
    "            # print(x)\n",
    "            with open(txt_filename,\"a\",encoding='utf-8') as file1:\n",
    "                for i in range(x):\n",
    "                    pageobj=pdfReader.pages[i]\n",
    "                    text=pageobj.extract_text()\n",
    "                    file1.writelines(text)\n",
    "                # print(text)"
   ]
  },
  {
   "cell_type": "code",
   "execution_count": 6,
   "metadata": {},
   "outputs": [
    {
     "name": "stdout",
     "output_type": "stream",
     "text": [
      "254\n"
     ]
    },
    {
     "ename": "UnicodeEncodeError",
     "evalue": "'latin-1' codec can't encode characters in position 5-9: ordinal not in range(256)",
     "output_type": "error",
     "traceback": [
      "\u001b[1;31m---------------------------------------------------------------------------\u001b[0m",
      "\u001b[1;31mUnicodeEncodeError\u001b[0m                        Traceback (most recent call last)",
      "\u001b[1;32mc:\\Users\\pc\\Desktop\\Python\\pdf转txt自己写.ipynb Cell 10\u001b[0m in \u001b[0;36m<cell line: 5>\u001b[1;34m()\u001b[0m\n\u001b[0;32m      <a href='vscode-notebook-cell:/c%3A/Users/pc/Desktop/Python/pdf%E8%BD%ACtxt%E8%87%AA%E5%B7%B1%E5%86%99.ipynb#ch0000009?line=7'>8</a>\u001b[0m text\u001b[39m=\u001b[39mpageobj\u001b[39m.\u001b[39mextract_text()\n\u001b[0;32m      <a href='vscode-notebook-cell:/c%3A/Users/pc/Desktop/Python/pdf%E8%BD%ACtxt%E8%87%AA%E5%B7%B1%E5%86%99.ipynb#ch0000009?line=8'>9</a>\u001b[0m \u001b[39m# print(type(text))\u001b[39;00m\n\u001b[1;32m---> <a href='vscode-notebook-cell:/c%3A/Users/pc/Desktop/Python/pdf%E8%BD%ACtxt%E8%87%AA%E5%B7%B1%E5%86%99.ipynb#ch0000009?line=9'>10</a>\u001b[0m file\u001b[39m.\u001b[39;49mwrite(text)\n",
      "\u001b[1;31mUnicodeEncodeError\u001b[0m: 'latin-1' codec can't encode characters in position 5-9: ordinal not in range(256)"
     ]
    }
   ],
   "source": [
    "pdfFileObj = open(r'D:\\提取txt - 副本\\600781\\ST辅仁：2019年年度报告.PDF', 'rb') \n",
    "pdfReader = PyPDF2.PdfReader(pdfFileObj)\n",
    "x=pdfReader.numPages\n",
    "print(x)\n",
    "with open(r'D:\\提取txt - 副本\\600781\\ST辅仁：2019年年度报告.txt',\"a\",encoding='utf-8') as file:  \n",
    "    for i in range(x):\n",
    "        pageobj=pdfReader.pages[i]\n",
    "        text=pageobj.extract_text()\n",
    "        # print(type(text))\n",
    "        file.write(text)\n",
    "    # file1=open(r'D:\\提取txt - 副本\\600781\\ST辅仁：2019年年度报告.PDF',\"a\",encoding='utf-8')\n",
    "    # file1.writelines(text)\n",
    "    # print(text)\n",
    "# file1.close()"
   ]
  }
 ],
 "metadata": {
  "kernelspec": {
   "display_name": "Python 3.10.5 64-bit",
   "language": "python",
   "name": "python3"
  },
  "language_info": {
   "codemirror_mode": {
    "name": "ipython",
    "version": 3
   },
   "file_extension": ".py",
   "mimetype": "text/x-python",
   "name": "python",
   "nbconvert_exporter": "python",
   "pygments_lexer": "ipython3",
   "version": "3.10.5"
  },
  "orig_nbformat": 4,
  "vscode": {
   "interpreter": {
    "hash": "718dc50a5c2c386ac871e97a99984a691c5b52b45844b37e856db88b966f3a50"
   }
  }
 },
 "nbformat": 4,
 "nbformat_minor": 2
}
